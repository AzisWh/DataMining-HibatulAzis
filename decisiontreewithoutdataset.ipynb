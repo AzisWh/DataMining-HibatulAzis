{
  "nbformat": 4,
  "nbformat_minor": 0,
  "metadata": {
    "colab": {
      "provenance": [],
      "authorship_tag": "ABX9TyNOO9gw1Xea5JcKeAc+VAot",
      "include_colab_link": true
    },
    "kernelspec": {
      "name": "python3",
      "display_name": "Python 3"
    },
    "language_info": {
      "name": "python"
    }
  },
  "cells": [
    {
      "cell_type": "markdown",
      "metadata": {
        "id": "view-in-github",
        "colab_type": "text"
      },
      "source": [
        "<a href=\"https://colab.research.google.com/github/Azissu/DataMining-HibatulAzis/blob/main/decisiontreewithoutdataset.ipynb\" target=\"_parent\"><img src=\"https://colab.research.google.com/assets/colab-badge.svg\" alt=\"Open In Colab\"/></a>"
      ]
    },
    {
      "cell_type": "code",
      "execution_count": 1,
      "metadata": {
        "id": "67X_kWpPiw0o"
      },
      "outputs": [],
      "source": [
        "from sklearn.tree import DecisionTreeClassifier\n",
        "from sklearn import datasets\n",
        "import matplotlib.pyplot as plt"
      ]
    },
    {
      "cell_type": "code",
      "source": [
        "iris = datasets.load_iris()\n",
        "features = iris['data']\n",
        "target = iris['target']"
      ],
      "metadata": {
        "id": "fcKqyZSsi4y-"
      },
      "execution_count": 2,
      "outputs": []
    },
    {
      "cell_type": "code",
      "source": [
        "decisiontree = DecisionTreeClassifier(random_state=0, max_depth=None,\n",
        "                                      min_samples_split=2, min_samples_leaf=1,\n",
        "                                      min_weight_fraction_leaf=0,\n",
        "                                      max_leaf_nodes=None,\n",
        "                                      min_impurity_decrease=0)"
      ],
      "metadata": {
        "id": "Z4w5ThJGi6n-"
      },
      "execution_count": 3,
      "outputs": []
    },
    {
      "cell_type": "code",
      "source": [
        "model = decisiontree.fit(features, target)\n",
        ""
      ],
      "metadata": {
        "id": "FugWFKuQi9Ea"
      },
      "execution_count": 4,
      "outputs": []
    },
    {
      "cell_type": "code",
      "source": [
        "#Mengambil Sampel Observasi dan Membuat Prediksi\n",
        "#Sampel Berupa Data Dimensi Kelopak\n",
        "#Fungsi predict() => Memeriksa Kelas yang Dimilikinya\n",
        "#Fungsi predict_proba() => Memeriksa Probabilitas Kelas dari Prediksi Tersebut\n",
        "observation = [[5, 4, 3, 2]]\n",
        "model.predict(observation)\n",
        "model.predict_proba(observation)"
      ],
      "metadata": {
        "colab": {
          "base_uri": "https://localhost:8080/"
        },
        "id": "-dt9K7yvi_V0",
        "outputId": "438f45c8-9c7b-4ca7-94cd-8630dea3310b"
      },
      "execution_count": 5,
      "outputs": [
        {
          "output_type": "execute_result",
          "data": {
            "text/plain": [
              "array([[0., 1., 0.]])"
            ]
          },
          "metadata": {},
          "execution_count": 5
        }
      ]
    },
    {
      "cell_type": "code",
      "source": [
        "#Membuat Grafik Visualisasi decision tree\n",
        "import pydotplus\n",
        "from sklearn import tree\n",
        "dot_data = tree.export_graphviz(decisiontree, out_file=None,\n",
        "                                feature_names=iris['feature_names'],\n",
        "                                class_names=iris['target_names'])\n",
        "from IPython.display import Image\n",
        "graph = pydotplus.graph_from_dot_data(dot_data)\n",
        "Image(graph.create_png())\n",
        "graph.write_png('iris.png')"
      ],
      "metadata": {
        "colab": {
          "base_uri": "https://localhost:8080/"
        },
        "id": "JzWTLwTMjBNV",
        "outputId": "e41c5af8-b18a-4605-943e-2ce4f2df127c"
      },
      "execution_count": 6,
      "outputs": [
        {
          "output_type": "execute_result",
          "data": {
            "text/plain": [
              "True"
            ]
          },
          "metadata": {},
          "execution_count": 6
        }
      ]
    }
  ]
}