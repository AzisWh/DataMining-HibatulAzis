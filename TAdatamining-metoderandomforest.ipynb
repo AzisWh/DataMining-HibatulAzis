{
  "nbformat": 4,
  "nbformat_minor": 0,
  "metadata": {
    "colab": {
      "provenance": [],
      "include_colab_link": true
    },
    "kernelspec": {
      "name": "python3",
      "display_name": "Python 3"
    },
    "language_info": {
      "name": "python"
    }
  },
  "cells": [
    {
      "cell_type": "markdown",
      "metadata": {
        "id": "view-in-github",
        "colab_type": "text"
      },
      "source": [
        "<a href=\"https://colab.research.google.com/github/Azissu/DataMining-HibatulAzis/blob/main/TAdatamining-metoderandomforest.ipynb\" target=\"_parent\"><img src=\"https://colab.research.google.com/assets/colab-badge.svg\" alt=\"Open In Colab\"/></a>"
      ]
    },
    {
      "cell_type": "code",
      "execution_count": null,
      "metadata": {
        "id": "hWZl61_2dHUf"
      },
      "outputs": [],
      "source": [
        "import numpy as np #untuk operasi matematika\n",
        "import pandas as pd #untuk membaca file\n",
        "import warnings #hiraukan warning\n",
        "warnings.filterwarnings(\"ignore\")\n",
        "from sklearn.compose import ColumnTransformer #mentransform kolom\n",
        "from sklearn.preprocessing import OneHotEncoder #mengubah kolom ke nilai boolean\n",
        "from sklearn.metrics import mean_squared_error, mean_absolute_error #melihat nilai MSE dan MAE\n",
        "from sklearn.model_selection import train_test_split #memisahkan data training dan testing\n",
        "from sklearn.ensemble import RandomForestRegressor #memanggil model random forest\n",
        "from sklearn.model_selection import GridSearchCV #hyper parameter data"
      ]
    },
    {
      "cell_type": "markdown",
      "source": [
        "data loading"
      ],
      "metadata": {
        "id": "rstw7fg7nR6n"
      }
    },
    {
      "cell_type": "code",
      "source": [
        "df = pd.read_csv(\"/content/bundesliga_player.csv\",index_col = [0]) #membaca file di laptop"
      ],
      "metadata": {
        "id": "tbvVKsI4nUMb"
      },
      "execution_count": null,
      "outputs": []
    },
    {
      "cell_type": "code",
      "source": [
        "df.head() #menampilkan 5 data teratas\n"
      ],
      "metadata": {
        "colab": {
          "base_uri": "https://localhost:8080/",
          "height": 206
        },
        "id": "h8pepwQPnmrn",
        "outputId": "dbab3d87-31ab-4300-f885-4070dce227e8"
      },
      "execution_count": null,
      "outputs": [
        {
          "output_type": "execute_result",
          "data": {
            "text/plain": [
              "               name           full_name  age  height  nationality  \\\n",
              "0      Manuel Neuer  Manuel Peter Neuer   37    1.93      Germany   \n",
              "1       Yann Sommer                 NaN   34    1.83  Switzerland   \n",
              "2      Sven Ulreich                 NaN   34    1.92      Germany   \n",
              "3   Johannes Schenk                 NaN   20    1.91      Germany   \n",
              "4  Matthijs de Ligt                 NaN   23    1.89  Netherlands   \n",
              "\n",
              "  place_of_birth  price  max_price                position  shirt_nr   foot  \\\n",
              "0  Gelsenkirchen    7.0       45.0              Goalkeeper         1  right   \n",
              "1         Morges    5.0       13.0              Goalkeeper        27  right   \n",
              "2     Schorndorf    0.9        6.0              Goalkeeper        26  right   \n",
              "3    Schweinfurt    0.3        0.3              Goalkeeper        35    NaN   \n",
              "4     Leiderdorp   75.0       75.0  Defender - Centre-Back         4  right   \n",
              "\n",
              "            club contract_expires joined_club             player_agent  \\\n",
              "0  Bayern Munich       2024-06-30  2011-07-01          PRO Profil GmbH   \n",
              "1  Bayern Munich       2025-06-30  2023-01-19                Relatives   \n",
              "2  Bayern Munich       2024-06-30  2021-07-01  BMS Sportconsulting ...   \n",
              "3  Bayern Munich       2024-06-30  2022-07-01                   11WINS   \n",
              "4  Bayern Munich       2027-06-30  2022-07-19          Rafaela Pimenta   \n",
              "\n",
              "  outfitter  \n",
              "0    adidas  \n",
              "1      Puma  \n",
              "2    adidas  \n",
              "3       NaN  \n",
              "4    adidas  "
            ],
            "text/html": [
              "\n",
              "  <div id=\"df-e1658949-f4d8-4acf-b504-1abee6cf7dc2\">\n",
              "    <div class=\"colab-df-container\">\n",
              "      <div>\n",
              "<style scoped>\n",
              "    .dataframe tbody tr th:only-of-type {\n",
              "        vertical-align: middle;\n",
              "    }\n",
              "\n",
              "    .dataframe tbody tr th {\n",
              "        vertical-align: top;\n",
              "    }\n",
              "\n",
              "    .dataframe thead th {\n",
              "        text-align: right;\n",
              "    }\n",
              "</style>\n",
              "<table border=\"1\" class=\"dataframe\">\n",
              "  <thead>\n",
              "    <tr style=\"text-align: right;\">\n",
              "      <th></th>\n",
              "      <th>name</th>\n",
              "      <th>full_name</th>\n",
              "      <th>age</th>\n",
              "      <th>height</th>\n",
              "      <th>nationality</th>\n",
              "      <th>place_of_birth</th>\n",
              "      <th>price</th>\n",
              "      <th>max_price</th>\n",
              "      <th>position</th>\n",
              "      <th>shirt_nr</th>\n",
              "      <th>foot</th>\n",
              "      <th>club</th>\n",
              "      <th>contract_expires</th>\n",
              "      <th>joined_club</th>\n",
              "      <th>player_agent</th>\n",
              "      <th>outfitter</th>\n",
              "    </tr>\n",
              "  </thead>\n",
              "  <tbody>\n",
              "    <tr>\n",
              "      <th>0</th>\n",
              "      <td>Manuel Neuer</td>\n",
              "      <td>Manuel Peter Neuer</td>\n",
              "      <td>37</td>\n",
              "      <td>1.93</td>\n",
              "      <td>Germany</td>\n",
              "      <td>Gelsenkirchen</td>\n",
              "      <td>7.0</td>\n",
              "      <td>45.0</td>\n",
              "      <td>Goalkeeper</td>\n",
              "      <td>1</td>\n",
              "      <td>right</td>\n",
              "      <td>Bayern Munich</td>\n",
              "      <td>2024-06-30</td>\n",
              "      <td>2011-07-01</td>\n",
              "      <td>PRO Profil GmbH</td>\n",
              "      <td>adidas</td>\n",
              "    </tr>\n",
              "    <tr>\n",
              "      <th>1</th>\n",
              "      <td>Yann Sommer</td>\n",
              "      <td>NaN</td>\n",
              "      <td>34</td>\n",
              "      <td>1.83</td>\n",
              "      <td>Switzerland</td>\n",
              "      <td>Morges</td>\n",
              "      <td>5.0</td>\n",
              "      <td>13.0</td>\n",
              "      <td>Goalkeeper</td>\n",
              "      <td>27</td>\n",
              "      <td>right</td>\n",
              "      <td>Bayern Munich</td>\n",
              "      <td>2025-06-30</td>\n",
              "      <td>2023-01-19</td>\n",
              "      <td>Relatives</td>\n",
              "      <td>Puma</td>\n",
              "    </tr>\n",
              "    <tr>\n",
              "      <th>2</th>\n",
              "      <td>Sven Ulreich</td>\n",
              "      <td>NaN</td>\n",
              "      <td>34</td>\n",
              "      <td>1.92</td>\n",
              "      <td>Germany</td>\n",
              "      <td>Schorndorf</td>\n",
              "      <td>0.9</td>\n",
              "      <td>6.0</td>\n",
              "      <td>Goalkeeper</td>\n",
              "      <td>26</td>\n",
              "      <td>right</td>\n",
              "      <td>Bayern Munich</td>\n",
              "      <td>2024-06-30</td>\n",
              "      <td>2021-07-01</td>\n",
              "      <td>BMS Sportconsulting ...</td>\n",
              "      <td>adidas</td>\n",
              "    </tr>\n",
              "    <tr>\n",
              "      <th>3</th>\n",
              "      <td>Johannes Schenk</td>\n",
              "      <td>NaN</td>\n",
              "      <td>20</td>\n",
              "      <td>1.91</td>\n",
              "      <td>Germany</td>\n",
              "      <td>Schweinfurt</td>\n",
              "      <td>0.3</td>\n",
              "      <td>0.3</td>\n",
              "      <td>Goalkeeper</td>\n",
              "      <td>35</td>\n",
              "      <td>NaN</td>\n",
              "      <td>Bayern Munich</td>\n",
              "      <td>2024-06-30</td>\n",
              "      <td>2022-07-01</td>\n",
              "      <td>11WINS</td>\n",
              "      <td>NaN</td>\n",
              "    </tr>\n",
              "    <tr>\n",
              "      <th>4</th>\n",
              "      <td>Matthijs de Ligt</td>\n",
              "      <td>NaN</td>\n",
              "      <td>23</td>\n",
              "      <td>1.89</td>\n",
              "      <td>Netherlands</td>\n",
              "      <td>Leiderdorp</td>\n",
              "      <td>75.0</td>\n",
              "      <td>75.0</td>\n",
              "      <td>Defender - Centre-Back</td>\n",
              "      <td>4</td>\n",
              "      <td>right</td>\n",
              "      <td>Bayern Munich</td>\n",
              "      <td>2027-06-30</td>\n",
              "      <td>2022-07-19</td>\n",
              "      <td>Rafaela Pimenta</td>\n",
              "      <td>adidas</td>\n",
              "    </tr>\n",
              "  </tbody>\n",
              "</table>\n",
              "</div>\n",
              "      <button class=\"colab-df-convert\" onclick=\"convertToInteractive('df-e1658949-f4d8-4acf-b504-1abee6cf7dc2')\"\n",
              "              title=\"Convert this dataframe to an interactive table.\"\n",
              "              style=\"display:none;\">\n",
              "        \n",
              "  <svg xmlns=\"http://www.w3.org/2000/svg\" height=\"24px\"viewBox=\"0 0 24 24\"\n",
              "       width=\"24px\">\n",
              "    <path d=\"M0 0h24v24H0V0z\" fill=\"none\"/>\n",
              "    <path d=\"M18.56 5.44l.94 2.06.94-2.06 2.06-.94-2.06-.94-.94-2.06-.94 2.06-2.06.94zm-11 1L8.5 8.5l.94-2.06 2.06-.94-2.06-.94L8.5 2.5l-.94 2.06-2.06.94zm10 10l.94 2.06.94-2.06 2.06-.94-2.06-.94-.94-2.06-.94 2.06-2.06.94z\"/><path d=\"M17.41 7.96l-1.37-1.37c-.4-.4-.92-.59-1.43-.59-.52 0-1.04.2-1.43.59L10.3 9.45l-7.72 7.72c-.78.78-.78 2.05 0 2.83L4 21.41c.39.39.9.59 1.41.59.51 0 1.02-.2 1.41-.59l7.78-7.78 2.81-2.81c.8-.78.8-2.07 0-2.86zM5.41 20L4 18.59l7.72-7.72 1.47 1.35L5.41 20z\"/>\n",
              "  </svg>\n",
              "      </button>\n",
              "      \n",
              "  <style>\n",
              "    .colab-df-container {\n",
              "      display:flex;\n",
              "      flex-wrap:wrap;\n",
              "      gap: 12px;\n",
              "    }\n",
              "\n",
              "    .colab-df-convert {\n",
              "      background-color: #E8F0FE;\n",
              "      border: none;\n",
              "      border-radius: 50%;\n",
              "      cursor: pointer;\n",
              "      display: none;\n",
              "      fill: #1967D2;\n",
              "      height: 32px;\n",
              "      padding: 0 0 0 0;\n",
              "      width: 32px;\n",
              "    }\n",
              "\n",
              "    .colab-df-convert:hover {\n",
              "      background-color: #E2EBFA;\n",
              "      box-shadow: 0px 1px 2px rgba(60, 64, 67, 0.3), 0px 1px 3px 1px rgba(60, 64, 67, 0.15);\n",
              "      fill: #174EA6;\n",
              "    }\n",
              "\n",
              "    [theme=dark] .colab-df-convert {\n",
              "      background-color: #3B4455;\n",
              "      fill: #D2E3FC;\n",
              "    }\n",
              "\n",
              "    [theme=dark] .colab-df-convert:hover {\n",
              "      background-color: #434B5C;\n",
              "      box-shadow: 0px 1px 3px 1px rgba(0, 0, 0, 0.15);\n",
              "      filter: drop-shadow(0px 1px 2px rgba(0, 0, 0, 0.3));\n",
              "      fill: #FFFFFF;\n",
              "    }\n",
              "  </style>\n",
              "\n",
              "      <script>\n",
              "        const buttonEl =\n",
              "          document.querySelector('#df-e1658949-f4d8-4acf-b504-1abee6cf7dc2 button.colab-df-convert');\n",
              "        buttonEl.style.display =\n",
              "          google.colab.kernel.accessAllowed ? 'block' : 'none';\n",
              "\n",
              "        async function convertToInteractive(key) {\n",
              "          const element = document.querySelector('#df-e1658949-f4d8-4acf-b504-1abee6cf7dc2');\n",
              "          const dataTable =\n",
              "            await google.colab.kernel.invokeFunction('convertToInteractive',\n",
              "                                                     [key], {});\n",
              "          if (!dataTable) return;\n",
              "\n",
              "          const docLinkHtml = 'Like what you see? Visit the ' +\n",
              "            '<a target=\"_blank\" href=https://colab.research.google.com/notebooks/data_table.ipynb>data table notebook</a>'\n",
              "            + ' to learn more about interactive tables.';\n",
              "          element.innerHTML = '';\n",
              "          dataTable['output_type'] = 'display_data';\n",
              "          await google.colab.output.renderOutput(dataTable, element);\n",
              "          const docLink = document.createElement('div');\n",
              "          docLink.innerHTML = docLinkHtml;\n",
              "          element.appendChild(docLink);\n",
              "        }\n",
              "      </script>\n",
              "    </div>\n",
              "  </div>\n",
              "  "
            ]
          },
          "metadata": {},
          "execution_count": 47
        }
      ]
    },
    {
      "cell_type": "markdown",
      "source": [
        "informasi data"
      ],
      "metadata": {
        "id": "P1nlmWnbn0dR"
      }
    },
    {
      "cell_type": "code",
      "source": [
        "df.shape #melihat jumlah baris dan kolom"
      ],
      "metadata": {
        "colab": {
          "base_uri": "https://localhost:8080/"
        },
        "id": "-I_OGzK1pPuV",
        "outputId": "7fe7f946-39a5-46c1-84dc-8a758f908e2d"
      },
      "execution_count": null,
      "outputs": [
        {
          "output_type": "execute_result",
          "data": {
            "text/plain": [
              "(515, 16)"
            ]
          },
          "metadata": {},
          "execution_count": 48
        }
      ]
    },
    {
      "cell_type": "code",
      "source": [
        "df.describe() #untuk melihat nilai deskriptif\n",
        "#count jumlah data(baris)\n",
        "#mean rata rata\n",
        "#std standard deviasi\n",
        "#min nilai terkecil\n",
        "#25% nilai kuartil satu\n",
        "#50% nilai kuartil dua atau q2 atau median\n",
        "#75% nilai kuartil tiga\n",
        "#max nilai maksimal"
      ],
      "metadata": {
        "colab": {
          "base_uri": "https://localhost:8080/",
          "height": 300
        },
        "id": "HrZQXKkqn30w",
        "outputId": "fc6f5eb9-322f-4e5e-dcb8-19993204b611"
      },
      "execution_count": null,
      "outputs": [
        {
          "output_type": "execute_result",
          "data": {
            "text/plain": [
              "              age      height       price   max_price    shirt_nr\n",
              "count  515.000000  515.000000  510.000000  510.000000  515.000000\n",
              "mean    25.683495    1.847612    8.482794   13.513627   19.798058\n",
              "std      4.700238    0.060996   14.653440   18.659222   12.414768\n",
              "min     17.000000    1.680000    0.025000    0.100000    1.000000\n",
              "25%     22.000000    1.800000    1.200000    2.500000    9.000000\n",
              "50%     25.000000    1.850000    3.500000    7.000000   20.000000\n",
              "75%     29.000000    1.890000    9.000000   16.750000   29.000000\n",
              "max     39.000000    2.000000  120.000000  150.000000   49.000000"
            ],
            "text/html": [
              "\n",
              "  <div id=\"df-51d57139-4b95-44b1-bc93-47273fa62760\">\n",
              "    <div class=\"colab-df-container\">\n",
              "      <div>\n",
              "<style scoped>\n",
              "    .dataframe tbody tr th:only-of-type {\n",
              "        vertical-align: middle;\n",
              "    }\n",
              "\n",
              "    .dataframe tbody tr th {\n",
              "        vertical-align: top;\n",
              "    }\n",
              "\n",
              "    .dataframe thead th {\n",
              "        text-align: right;\n",
              "    }\n",
              "</style>\n",
              "<table border=\"1\" class=\"dataframe\">\n",
              "  <thead>\n",
              "    <tr style=\"text-align: right;\">\n",
              "      <th></th>\n",
              "      <th>age</th>\n",
              "      <th>height</th>\n",
              "      <th>price</th>\n",
              "      <th>max_price</th>\n",
              "      <th>shirt_nr</th>\n",
              "    </tr>\n",
              "  </thead>\n",
              "  <tbody>\n",
              "    <tr>\n",
              "      <th>count</th>\n",
              "      <td>515.000000</td>\n",
              "      <td>515.000000</td>\n",
              "      <td>510.000000</td>\n",
              "      <td>510.000000</td>\n",
              "      <td>515.000000</td>\n",
              "    </tr>\n",
              "    <tr>\n",
              "      <th>mean</th>\n",
              "      <td>25.683495</td>\n",
              "      <td>1.847612</td>\n",
              "      <td>8.482794</td>\n",
              "      <td>13.513627</td>\n",
              "      <td>19.798058</td>\n",
              "    </tr>\n",
              "    <tr>\n",
              "      <th>std</th>\n",
              "      <td>4.700238</td>\n",
              "      <td>0.060996</td>\n",
              "      <td>14.653440</td>\n",
              "      <td>18.659222</td>\n",
              "      <td>12.414768</td>\n",
              "    </tr>\n",
              "    <tr>\n",
              "      <th>min</th>\n",
              "      <td>17.000000</td>\n",
              "      <td>1.680000</td>\n",
              "      <td>0.025000</td>\n",
              "      <td>0.100000</td>\n",
              "      <td>1.000000</td>\n",
              "    </tr>\n",
              "    <tr>\n",
              "      <th>25%</th>\n",
              "      <td>22.000000</td>\n",
              "      <td>1.800000</td>\n",
              "      <td>1.200000</td>\n",
              "      <td>2.500000</td>\n",
              "      <td>9.000000</td>\n",
              "    </tr>\n",
              "    <tr>\n",
              "      <th>50%</th>\n",
              "      <td>25.000000</td>\n",
              "      <td>1.850000</td>\n",
              "      <td>3.500000</td>\n",
              "      <td>7.000000</td>\n",
              "      <td>20.000000</td>\n",
              "    </tr>\n",
              "    <tr>\n",
              "      <th>75%</th>\n",
              "      <td>29.000000</td>\n",
              "      <td>1.890000</td>\n",
              "      <td>9.000000</td>\n",
              "      <td>16.750000</td>\n",
              "      <td>29.000000</td>\n",
              "    </tr>\n",
              "    <tr>\n",
              "      <th>max</th>\n",
              "      <td>39.000000</td>\n",
              "      <td>2.000000</td>\n",
              "      <td>120.000000</td>\n",
              "      <td>150.000000</td>\n",
              "      <td>49.000000</td>\n",
              "    </tr>\n",
              "  </tbody>\n",
              "</table>\n",
              "</div>\n",
              "      <button class=\"colab-df-convert\" onclick=\"convertToInteractive('df-51d57139-4b95-44b1-bc93-47273fa62760')\"\n",
              "              title=\"Convert this dataframe to an interactive table.\"\n",
              "              style=\"display:none;\">\n",
              "        \n",
              "  <svg xmlns=\"http://www.w3.org/2000/svg\" height=\"24px\"viewBox=\"0 0 24 24\"\n",
              "       width=\"24px\">\n",
              "    <path d=\"M0 0h24v24H0V0z\" fill=\"none\"/>\n",
              "    <path d=\"M18.56 5.44l.94 2.06.94-2.06 2.06-.94-2.06-.94-.94-2.06-.94 2.06-2.06.94zm-11 1L8.5 8.5l.94-2.06 2.06-.94-2.06-.94L8.5 2.5l-.94 2.06-2.06.94zm10 10l.94 2.06.94-2.06 2.06-.94-2.06-.94-.94-2.06-.94 2.06-2.06.94z\"/><path d=\"M17.41 7.96l-1.37-1.37c-.4-.4-.92-.59-1.43-.59-.52 0-1.04.2-1.43.59L10.3 9.45l-7.72 7.72c-.78.78-.78 2.05 0 2.83L4 21.41c.39.39.9.59 1.41.59.51 0 1.02-.2 1.41-.59l7.78-7.78 2.81-2.81c.8-.78.8-2.07 0-2.86zM5.41 20L4 18.59l7.72-7.72 1.47 1.35L5.41 20z\"/>\n",
              "  </svg>\n",
              "      </button>\n",
              "      \n",
              "  <style>\n",
              "    .colab-df-container {\n",
              "      display:flex;\n",
              "      flex-wrap:wrap;\n",
              "      gap: 12px;\n",
              "    }\n",
              "\n",
              "    .colab-df-convert {\n",
              "      background-color: #E8F0FE;\n",
              "      border: none;\n",
              "      border-radius: 50%;\n",
              "      cursor: pointer;\n",
              "      display: none;\n",
              "      fill: #1967D2;\n",
              "      height: 32px;\n",
              "      padding: 0 0 0 0;\n",
              "      width: 32px;\n",
              "    }\n",
              "\n",
              "    .colab-df-convert:hover {\n",
              "      background-color: #E2EBFA;\n",
              "      box-shadow: 0px 1px 2px rgba(60, 64, 67, 0.3), 0px 1px 3px 1px rgba(60, 64, 67, 0.15);\n",
              "      fill: #174EA6;\n",
              "    }\n",
              "\n",
              "    [theme=dark] .colab-df-convert {\n",
              "      background-color: #3B4455;\n",
              "      fill: #D2E3FC;\n",
              "    }\n",
              "\n",
              "    [theme=dark] .colab-df-convert:hover {\n",
              "      background-color: #434B5C;\n",
              "      box-shadow: 0px 1px 3px 1px rgba(0, 0, 0, 0.15);\n",
              "      filter: drop-shadow(0px 1px 2px rgba(0, 0, 0, 0.3));\n",
              "      fill: #FFFFFF;\n",
              "    }\n",
              "  </style>\n",
              "\n",
              "      <script>\n",
              "        const buttonEl =\n",
              "          document.querySelector('#df-51d57139-4b95-44b1-bc93-47273fa62760 button.colab-df-convert');\n",
              "        buttonEl.style.display =\n",
              "          google.colab.kernel.accessAllowed ? 'block' : 'none';\n",
              "\n",
              "        async function convertToInteractive(key) {\n",
              "          const element = document.querySelector('#df-51d57139-4b95-44b1-bc93-47273fa62760');\n",
              "          const dataTable =\n",
              "            await google.colab.kernel.invokeFunction('convertToInteractive',\n",
              "                                                     [key], {});\n",
              "          if (!dataTable) return;\n",
              "\n",
              "          const docLinkHtml = 'Like what you see? Visit the ' +\n",
              "            '<a target=\"_blank\" href=https://colab.research.google.com/notebooks/data_table.ipynb>data table notebook</a>'\n",
              "            + ' to learn more about interactive tables.';\n",
              "          element.innerHTML = '';\n",
              "          dataTable['output_type'] = 'display_data';\n",
              "          await google.colab.output.renderOutput(dataTable, element);\n",
              "          const docLink = document.createElement('div');\n",
              "          docLink.innerHTML = docLinkHtml;\n",
              "          element.appendChild(docLink);\n",
              "        }\n",
              "      </script>\n",
              "    </div>\n",
              "  </div>\n",
              "  "
            ]
          },
          "metadata": {},
          "execution_count": 49
        }
      ]
    },
    {
      "cell_type": "code",
      "source": [
        "df.info() #melihat tipe data\n",
        "#object= data string\n",
        "#int bilangan bulat numerik\n",
        "#float desimal"
      ],
      "metadata": {
        "colab": {
          "base_uri": "https://localhost:8080/"
        },
        "id": "AWqPrrixp91h",
        "outputId": "544b5068-5c1c-475f-b524-0b362122fe15"
      },
      "execution_count": null,
      "outputs": [
        {
          "output_type": "stream",
          "name": "stdout",
          "text": [
            "<class 'pandas.core.frame.DataFrame'>\n",
            "Int64Index: 515 entries, 0 to 514\n",
            "Data columns (total 16 columns):\n",
            " #   Column            Non-Null Count  Dtype  \n",
            "---  ------            --------------  -----  \n",
            " 0   name              515 non-null    object \n",
            " 1   full_name         229 non-null    object \n",
            " 2   age               515 non-null    int64  \n",
            " 3   height            515 non-null    float64\n",
            " 4   nationality       515 non-null    object \n",
            " 5   place_of_birth    510 non-null    object \n",
            " 6   price             510 non-null    float64\n",
            " 7   max_price         510 non-null    float64\n",
            " 8   position          515 non-null    object \n",
            " 9   shirt_nr          515 non-null    int64  \n",
            " 10  foot              506 non-null    object \n",
            " 11  club              515 non-null    object \n",
            " 12  contract_expires  481 non-null    object \n",
            " 13  joined_club       515 non-null    object \n",
            " 14  player_agent      488 non-null    object \n",
            " 15  outfitter         193 non-null    object \n",
            "dtypes: float64(3), int64(2), object(11)\n",
            "memory usage: 68.4+ KB\n"
          ]
        }
      ]
    },
    {
      "cell_type": "markdown",
      "source": [
        "checking missing value (informasi hilang)"
      ],
      "metadata": {
        "id": "rbYOckB0qQb5"
      }
    },
    {
      "cell_type": "code",
      "source": [
        "df.isna().sum() #mentotal missing value"
      ],
      "metadata": {
        "colab": {
          "base_uri": "https://localhost:8080/"
        },
        "id": "Phl7AgvZqaf2",
        "outputId": "2ec3597f-4a61-4c8a-f8a3-8965f7b5bdb9"
      },
      "execution_count": null,
      "outputs": [
        {
          "output_type": "execute_result",
          "data": {
            "text/plain": [
              "name                  0\n",
              "full_name           286\n",
              "age                   0\n",
              "height                0\n",
              "nationality           0\n",
              "place_of_birth        5\n",
              "price                 5\n",
              "max_price             5\n",
              "position              0\n",
              "shirt_nr              0\n",
              "foot                  9\n",
              "club                  0\n",
              "contract_expires     34\n",
              "joined_club           0\n",
              "player_agent         27\n",
              "outfitter           322\n",
              "dtype: int64"
            ]
          },
          "metadata": {},
          "execution_count": 51
        }
      ]
    },
    {
      "cell_type": "markdown",
      "source": [
        "data cleansing"
      ],
      "metadata": {
        "id": "L8RpRE7Zr7m7"
      }
    },
    {
      "cell_type": "code",
      "source": [
        "\n",
        "#memilih fitur yang digunakan\n",
        "df = df[['age', 'height', 'nationality', 'foot', 'position', 'club',\n",
        "                        'contract_expires', 'joined_club', 'player_agent', 'outfitter', 'price']]\n",
        "\n",
        "#mereplace none dalam string menjadi nilai missing value\n",
        "df['outfitter'] = df['outfitter'].replace(np.nan, 'none')\n",
        "#replace none menjadi missing value player agent\n",
        "df['player_agent'] = df['player_agent'].replace(np.nan, 'none')\n",
        "\n",
        "#untuk menghapus missing value secara permanent menggunakan dropna dan inplace = true\n",
        "df.dropna(inplace = True)\n",
        "\n",
        "#memperlihatkan baris dan kolom\n",
        "print(f'df shape: {df.shape}')"
      ],
      "metadata": {
        "colab": {
          "base_uri": "https://localhost:8080/"
        },
        "id": "L699XSJwqoep",
        "outputId": "711011a4-1f9d-4c76-e80c-e90bb07665e3"
      },
      "execution_count": null,
      "outputs": [
        {
          "output_type": "stream",
          "name": "stdout",
          "text": [
            "df shape: (468, 11)\n"
          ]
        }
      ]
    },
    {
      "cell_type": "markdown",
      "source": [
        "mengecek missing value setelah data dibersihkan"
      ],
      "metadata": {
        "id": "3brQwC2HsCMq"
      }
    },
    {
      "cell_type": "code",
      "source": [
        "df.isna().sum()"
      ],
      "metadata": {
        "colab": {
          "base_uri": "https://localhost:8080/"
        },
        "id": "XyZNbonOrEq0",
        "outputId": "bc99e0d2-892c-4a9c-e810-0c536a7211a4"
      },
      "execution_count": null,
      "outputs": [
        {
          "output_type": "execute_result",
          "data": {
            "text/plain": [
              "age                 0\n",
              "height              0\n",
              "nationality         0\n",
              "foot                0\n",
              "position            0\n",
              "club                0\n",
              "contract_expires    0\n",
              "joined_club         0\n",
              "player_agent        0\n",
              "outfitter           0\n",
              "price               0\n",
              "dtype: int64"
            ]
          },
          "metadata": {},
          "execution_count": 53
        }
      ]
    },
    {
      "cell_type": "markdown",
      "source": [
        "menentukan nilai x dan y\n",
        "x= variabel bebas\n",
        "y= target"
      ],
      "metadata": {
        "id": "FPSc0B6QsFhA"
      }
    },
    {
      "cell_type": "code",
      "source": [
        "#prediktor\n",
        "x = df[['age', 'height', 'foot', 'position', 'club',\n",
        "                        'contract_expires', 'joined_club', 'player_agent', 'outfitter']]\n",
        "y = df[\"price\"] #target"
      ],
      "metadata": {
        "id": "0YUyS50VsJC9"
      },
      "execution_count": null,
      "outputs": []
    },
    {
      "cell_type": "markdown",
      "source": [
        "one hot encoding (memperbaiki data, datanya menjadi boolean)"
      ],
      "metadata": {
        "id": "OsATpg1xssMl"
      }
    },
    {
      "cell_type": "code",
      "source": [
        "for column in df.columns:\n",
        "    unique_values = df[column].unique()\n",
        "    print(f\"Unique values in column '{column}': {unique_values}\")\n",
        "#unique value nilai yang muncul sekali"
      ],
      "metadata": {
        "colab": {
          "base_uri": "https://localhost:8080/"
        },
        "id": "rk05foGTs15J",
        "outputId": "8a38f759-0d3d-4d4c-8717-1ef933db5b14"
      },
      "execution_count": null,
      "outputs": [
        {
          "output_type": "stream",
          "name": "stdout",
          "text": [
            "Unique values in column 'age': [37 34 23 24 27 22 33 28 25 31 20 17 26 18 21 32 19 29 30 35 39 38 36]\n",
            "Unique values in column 'height': [1.93 1.83 1.92 1.89 1.86 1.84 1.85 1.8  1.82 1.87 1.77 1.9  1.76 1.81\n",
            " 1.74 1.91 1.94 1.95 1.7  1.73 1.78 1.79 1.88 1.75 1.71 1.72 1.97 2.\n",
            " 1.96 1.68 1.98]\n",
            "Unique values in column 'nationality': ['Germany' 'Switzerland' 'Netherlands' 'France\\xa0\\xa0Guinea-Bissau'\n",
            " 'France\\xa0\\xa0Spain' 'Canada\\xa0\\xa0Liberia' 'Portugal' 'France'\n",
            " 'Morocco\\xa0\\xa0Netherlands' 'Croatia\\xa0\\xa0Germany'\n",
            " 'Senegal\\xa0\\xa0France' 'Netherlands\\xa0\\xa0Suriname'\n",
            " 'Germany\\xa0\\xa0England' 'Germany\\xa0\\xa0Austria' 'Germany\\xa0\\xa0Kosovo'\n",
            " 'France\\xa0\\xa0Guadeloupe' 'Senegal' 'Germany\\xa0\\xa0France'\n",
            " \"Germany\\xa0\\xa0Cote d'Ivoire\" 'Cameroon\\xa0\\xa0Germany'\n",
            " 'Germany\\xa0\\xa0Poland' 'France\\xa0\\xa0Mali' 'Germany\\xa0\\xa0Greece'\n",
            " 'Portugal\\xa0\\xa0France' 'Norway' 'Belgium' 'Spain'\n",
            " 'Turkey\\xa0\\xa0Germany' 'Germany\\xa0\\xa0Turkey' 'France\\xa0\\xa0Guinea'\n",
            " 'England' 'Germany\\xa0\\xa0Syria' 'United States\\xa0\\xa0Portugal'\n",
            " 'Germany\\xa0\\xa0Nigeria' 'England\\xa0\\xa0Barbados'\n",
            " \"Cote d'Ivoire\\xa0\\xa0France\" 'Germany\\xa0\\xa0Cameroon'\n",
            " 'France\\xa0\\xa0Martinique' 'Hungary' 'Croatia' 'Hungary\\xa0\\xa0Germany'\n",
            " 'Germany\\xa0\\xa0Senegal' 'Germany\\xa0\\xa0Ghana' 'Austria' 'Mali'\n",
            " 'Slovenia' 'Sweden' 'United States' 'France\\xa0\\xa0DR Congo'\n",
            " 'Denmark\\xa0\\xa0Tanzania' 'Finland\\xa0\\xa0Slovakia' 'Russia'\n",
            " 'Burkina Faso' 'Ecuador' \"Cote d'Ivoire\" 'Netherlands\\xa0\\xa0Ghana'\n",
            " 'Argentina' 'Germany\\xa0\\xa0Afghanistan' 'England\\xa0\\xa0Ghana'\n",
            " 'France\\xa0\\xa0Morocco' 'Germany\\xa0\\xa0Morocco' 'Czech Republic' 'Iran'\n",
            " 'Albania' 'France\\xa0\\xa0Cameroon' 'Brazil' 'Mali\\xa0\\xa0France' 'Japan'\n",
            " 'Germany\\xa0\\xa0Spain' 'Portugal\\xa0\\xa0Angola'\n",
            " 'United States\\xa0\\xa0Germany' 'Switzerland\\xa0\\xa0Senegal' 'Denmark'\n",
            " 'Germany\\xa0\\xa0Togo' 'Colombia' 'Argentina\\xa0\\xa0Italy'\n",
            " 'France\\xa0\\xa0Senegal' 'Algeria' \"France\\xa0\\xa0Cote d'Ivoire\"\n",
            " 'Denmark\\xa0\\xa0Italy' 'Ireland\\xa0\\xa0Germany'\n",
            " 'Luxembourg\\xa0\\xa0Cape Verde' 'France\\xa0\\xa0Italy'\n",
            " 'Germany\\xa0\\xa0DR Congo' 'United States\\xa0\\xa0Dominican Republic'\n",
            " 'Poland' 'Egypt\\xa0\\xa0Canada' 'Germany\\xa0\\xa0Montenegro' 'Korea, South'\n",
            " 'Turkey' 'Nigeria\\xa0\\xa0Germany' 'Bosnia-Herzegovina\\xa0\\xa0Germany'\n",
            " 'Denmark\\xa0\\xa0United States' 'Togo\\xa0\\xa0Germany' 'Israel'\n",
            " 'Suriname\\xa0\\xa0Netherlands' 'United States\\xa0\\xa0France'\n",
            " 'England\\xa0\\xa0Jamaica' 'Finland'\n",
            " 'Switzerland\\xa0\\xa0Dominican Republic' 'Italy\\xa0\\xa0Germany'\n",
            " 'Italy\\xa0\\xa0Ghana' 'France\\xa0\\xa0Malta' 'Greece'\n",
            " 'Denmark\\xa0\\xa0Ghana' 'DR Congo' 'Guinea\\xa0\\xa0France'\n",
            " 'Australia\\xa0\\xa0Southern Sudan' 'Germany\\xa0\\xa0Angola'\n",
            " 'Luxembourg\\xa0\\xa0Portugal' 'Switzerland\\xa0\\xa0Portugal'\n",
            " 'Morocco\\xa0\\xa0Germany' 'Germany\\xa0\\xa0Albania' 'France\\xa0\\xa0Réunion'\n",
            " 'Tunisia\\xa0\\xa0France' 'Germany\\xa0\\xa0Bosnia-Herzegovina'\n",
            " 'Luxembourg\\xa0\\xa0Denmark' 'Ghana\\xa0\\xa0Germany' 'Germany\\xa0\\xa0Kenya'\n",
            " 'Greece\\xa0\\xa0Brazil' 'Armenia' 'Germany\\xa0\\xa0Hungary'\n",
            " 'Uruguay\\xa0\\xa0Italy' 'Slovakia' 'Nigeria' 'Belgium\\xa0\\xa0DR Congo'\n",
            " 'Montenegro\\xa0\\xa0Serbia' 'Germany\\xa0\\xa0Algeria'\n",
            " 'Germany\\xa0\\xa0Brazil' 'Serbia\\xa0\\xa0Switzerland'\n",
            " 'Bulgaria\\xa0\\xa0Germany' 'France\\xa0\\xa0Poland'\n",
            " 'Czech Republic\\xa0\\xa0Slovakia' 'Uruguay\\xa0\\xa0Spain'\n",
            " 'Sweden\\xa0\\xa0Serbia' 'Serbia' 'Ukraine' 'Germany\\xa0\\xa0Egypt'\n",
            " 'The Gambia\\xa0\\xa0Switzerland' 'Costa Rica' 'Cameroon'\n",
            " 'Philippines\\xa0\\xa0Germany' 'Congo']\n",
            "Unique values in column 'foot': ['right' 'left' 'both']\n",
            "Unique values in column 'position': ['Goalkeeper' 'Defender - Centre-Back' 'Defender - Left-Back'\n",
            " 'Defender - Right-Back' 'midfield - Defensive Midfield'\n",
            " 'midfield - Central Midfield' 'midfield - Attacking Midfield'\n",
            " 'Attack - Left Winger' 'Attack - Right Winger' 'Attack - Second Striker'\n",
            " 'Attack - Centre-Forward' 'midfield - Right Midfield'\n",
            " 'midfield - Left Midfield']\n",
            "Unique values in column 'club': ['Bayern Munich' 'Bor. Dortmund' 'B. Dortmund II' 'RB Leipzig'\n",
            " 'RB Leipzig U19' 'RB Leipzig U17' 'B. Leverkusen' 'E. Frankfurt'\n",
            " \"Bor. M'gladbach\" 'VfL Wolfsburg' 'SC Freiburg' 'TSG Hoffenheim'\n",
            " 'Union Berlin' 'FC Augsburg' 'VfB Stuttgart' '1.FSV Mainz 05' '1.FC Köln'\n",
            " '1.FC Köln II' 'Hertha BSC' 'Hertha BSC II' 'Hertha BSC U19'\n",
            " 'Werder Bremen' 'FC Schalke 04' 'VfL Bochum']\n",
            "Unique values in column 'contract_expires': ['2024-06-30' '2025-06-30' '2027-06-30' '2026-06-30' '2023-06-30'\n",
            " '2028-06-30']\n",
            "Unique values in column 'joined_club': ['2011-07-01' '2023-01-19' '2021-07-01' '2022-07-19' '2021-07-05'\n",
            " '2019-07-01' '2019-01-01' '2023-01-05' '2023-01-31' '2022-07-01'\n",
            " '2021-08-01' '2020-10-05' '2015-07-02' '2018-07-01' '2020-07-01'\n",
            " '2022-01-31' '2023-01-17' '2017-07-01' '2020-07-15' '2009-07-01'\n",
            " '2022-07-26' '2016-07-01' '2018-07-02' '2016-01-04' '2021-07-20'\n",
            " '2020-07-23' '2020-01-12' '2012-07-01' '2021-07-27' '2022-07-06'\n",
            " '2020-07-29' '2022-08-08' '2015-07-01' '2022-10-09' '2022-09-01'\n",
            " '2022-07-31' '2015-08-31' '2014-08-22' '2017-08-31' '2020-01-25'\n",
            " '2021-01-01' '2015-01-07' '2019-07-18' '2022-08-09' '2021-07-02'\n",
            " '2013-07-04' '2023-01-27' '2021-07-10' '2020-01-31' '2021-08-16'\n",
            " '2015-07-16' '2021-07-22' '2021-07-12' '2021-01-27' '2021-01-13'\n",
            " '2023-01-14' '2020-01-01' '2019-07-30' '2022-08-30' '2021-08-26'\n",
            " '2020-09-08' '2022-01-30' '2019-08-07' '2021-07-19' '2023-01-01'\n",
            " '2018-07-05' '2019-01-31' '2014-07-01' '2021-08-20' '2019-07-27'\n",
            " '2022-08-21' '2021-07-11' '2022-01-20' '2020-07-13' '2022-07-02'\n",
            " '2022-01-11' '2019-08-14' '2021-08-06' '2021-01-21' '2018-07-13'\n",
            " '2016-01-01' '2010-01-01' '2019-07-22' '2015-01-21' '2020-08-25'\n",
            " '2021-08-31' '2021-07-16' '2023-01-25' '2020-10-01' '2012-01-01'\n",
            " '2022-07-16' '2022-01-28' '2021-07-21' '2021-08-22' '2022-07-14'\n",
            " '2020-04-16' '2021-08-18' '2018-08-31' '2022-07-23' '2022-08-03'\n",
            " '2013-07-01' '2023-01-26' '2022-08-04' '2023-01-18' '2023-01-30'\n",
            " '2019-07-29' '2019-01-15' '2023-01-02' '2020-01-07' '2022-01-04'\n",
            " '2016-01-15' '2020-08-04' '2023-01-22' '2019-08-06' '2018-10-24'\n",
            " '2019-08-02' '2016-01-09' '2020-09-02' '2021-07-08' '2022-08-16'\n",
            " '2022-07-27' '2023-01-03' '2022-07-08' '2022-08-31' '2023-01-13'\n",
            " '2021-09-07' '2020-07-28' '2022-09-19' '2020-07-24' '2022-07-09'\n",
            " '2021-08-14' '2019-08-29' '2019-08-13' '2019-07-02' '2022-08-02'\n",
            " '2010-07-01' '2015-11-30' '2021-07-09' '2021-07-31' '2022-11-18'\n",
            " '2023-01-24' '2016-01-05' '2023-01-15' '2022-03-08' '2022-01-26'\n",
            " '2022-02-04' '2019-01-18' '2020-01-17' '2020-09-21' '2022-07-05'\n",
            " '2020-09-15' '2014-01-01' '2022-01-25' '2015-08-19' '2012-08-31'\n",
            " '2020-01-27' '2022-07-13' '2019-08-01' '2021-08-09' '2022-07-30'\n",
            " '2016-02-01' '2021-10-07' '2022-07-04' '2022-07-15' '2020-08-01'\n",
            " '2019-01-03' '2021-08-25' '2017-08-04' '2021-09-28' '2022-10-21'\n",
            " '2023-01-07' '2022-07-07' '2023-01-23' '2023-01-20' '2022-07-10'\n",
            " '2022-08-11' '2020-08-14' '2019-08-27' '2023-01-06' '2020-08-24'\n",
            " '2019-07-05']\n",
            "Unique values in column 'player_agent': ['PRO Profil GmbH' 'Relatives' 'BMS Sportconsulting ...' 'Rafaela Pimenta'\n",
            " 'Unique Sports Group' 'Manuel García ...' 'ATG Sports' 'SEG' 'Gestifute'\n",
            " 'Carmenta' 'BALLWERK Sports GmbH' 'Wasserman' 'none' 'Neubauer 13 GmbH'\n",
            " 'Team Raiola' '11WINS' 'Agent is known - Player under 18' 'CAA Base Ltd'\n",
            " 'ROOF' 'LIAN Sports Group' 'Kögl & Partner GmbH' 'ROGON'\n",
            " 'SBE Management AG' 'AKA Global GmbH' 'SWSports' 'Robert Schneider'\n",
            " 'Sports360 GmbH' 'HMH Sportmanagement' 'Epic Sports' 'CAA Stellar'\n",
            " 'Thomas Meunier' 'Teamgeist ...' 'Dirk Hebel' 'ISM Int. Soccer ...'\n",
            " 'Lorimanagement' 'Kick&Run' 'Elite Project Group ...' 'management 360'\n",
            " 'HCM Sports ...' 'Solbakken / Player ...' 'neblung ...' 'Marjan Sisic'\n",
            " 'BS Group - BS Law' 'Classico' 'TrueSports GmbH' 'CN Sports'\n",
            " 'EMG Mundial' 'MR Sport Management ...' 'Niagara Sports ...'\n",
            " 'EM Sports Consulting' 'YMU Group' 'Gol International' 'PEP Consulting'\n",
            " 'World in Motion' 'D20 Sports' 'Fútbol División' 'Global Soccer ...'\n",
            " 'V4S' 'Prolific Sports ...' 'teamplayer ...' 'Eleven Talent Group'\n",
            " 'Concept Sport Agency' 'AIS SPORT SERVICE' 'KL Sportsbase'\n",
            " 'Int. Sport ...' 'PESM' 'Creatio Management' 'AMS CONSULTING' 'Wolfs'\n",
            " 'Proeleven S.A.' 'Sports eXcellence ...' 'Signature - ISCM AG' 'Skylar'\n",
            " 'Roberto Tukada' 'NSG ApS' 'FTC' 'H.S.P. ...' 'Pedro Aldave Ortuzar'\n",
            " 'B360 Sports' 'Dr. Michael Becker' 'IFM' 'Fröhlich ...'\n",
            " 'Sport Avenir ...' 'NINE Group' 'SMI SPORTS ...' 'Dr. Marco Gutfleisch'\n",
            " 'NexSt11' 'Sport Cover' 'TPWE GmbH' 'Hexagon' 'TFM Agency' 'Kostila'\n",
            " 'Karl M. Herzog ...' 'MD Management' 'Stephan Engels' 'BMG-SPORT'\n",
            " 'People In Sport' 'YOU FIRST' 'VIDA 11' 'World Soccer Agency'\n",
            " 'Apertura Sports GmbH' 'Bigpoint' 'F-F SPORT' 'Sport Business ...'\n",
            " 'no agent' 'WINStar Management' 'Elite Sports ...' 'Boutique Transfers'\n",
            " 'Soccer Mondial AG' 'Soccertalk GmbH' 'SMG GmbH' 'FSB – ...' 'Pando'\n",
            " 'think forward' 'B O K S' 'SPORT INVEST' 'C.R' 'Nordic Sky'\n",
            " 'P&P Sport ...' 'Fabryka Futbolu' 'Mondo Victory' 'Rummenigge Sport ...'\n",
            " 'Caligiuri Sports' 'Konstantinos Farras' 'Universal Sports ...'\n",
            " 'MK Sport Consulting' 'Klan Soccer FZCO' 'M-Soccermanagement'\n",
            " 'Ulisses Santos - ...' 'Haspel ...' 'W&K Fairplay' 'ROOF Talents'\n",
            " 'W.Egal O.S.F.M.' 'BY AND FOR' 'ASBW Sport Marketing' 'PURE'\n",
            " 'Léandre Chouya' 'MD Sports' 'DC International ...' 'Timo Hübers'\n",
            " 'LK Management' 'act SPORTS GROUP' 'NGM SPORTS' 'ProfiSports Prskalo'\n",
            " 'CS' 'GOOD ADVICE Sports ...' 'ROGON U23' 'Golden Patch ...'\n",
            " 'Ariel Krasouski' 'Ivan Bosnjak' 'Briem Soccer ...' 'Excellence Sport'\n",
            " 'Aneke/PMG' 'BoostMySport' 'Lasana KOITA' 'Quantum Sport' 'TDS SPORTS'\n",
            " 'feel soccer GmbH' 'DLT Sports Group' 'CMA Group' 'Siebert & Backs'\n",
            " 'ROYAL' 'Key United' 'Wojciech Zlobicki' 'NGA Sport' 'KIN Partners'\n",
            " 'K2K Sports ...' 'Murza Eduard' 'WoS' 'TDL Sports ...' 'UNIDOS'\n",
            " 'IS SPORTS AGENCY ...' 'Kay Sports ...' 'JEB ENTERTAINMENT ...' 'GoalSky'\n",
            " 'BY Sport Consulting']\n",
            "Unique values in column 'outfitter': ['adidas' 'Puma' 'Nike' 'none' 'New Balance' 'Uhlsport' 'Under Armour'\n",
            " 'HashtagOne' 'Stanno' 'Mizuno']\n",
            "Unique values in column 'price': [7.0e+00 5.0e+00 9.0e-01 7.5e+01 6.0e+01 5.0e+01 7.0e+01 6.0e+00 3.5e+01\n",
            " 2.8e+01 1.2e+01 2.5e+00 8.0e+01 6.5e+01 3.0e+01 1.1e+02 3.0e+00 1.0e+00\n",
            " 4.5e+01 5.5e+01 1.8e+01 2.0e+01 1.3e+00 4.0e+01 6.5e+00 6.0e-01 3.5e+00\n",
            " 2.0e+00 1.0e+01 9.0e+00 1.5e+00 1.7e+01 1.4e+01 1.2e+02 3.0e-01 1.6e+01\n",
            " 2.0e-01 1.5e+01 4.0e+00 5.0e-01 2.2e+01 2.8e+00 2.5e+01 2.5e-01 1.1e+01\n",
            " 8.5e+01 8.5e+00 7.5e-01 3.2e+01 8.0e-01 1.2e+00 7.5e+00 1.3e+01 4.5e+00\n",
            " 4.0e-01 1.0e-01 7.0e-01 8.0e+00 3.5e-01 1.5e-01 5.5e+00 1.8e+00 2.4e+00\n",
            " 2.5e-02 2.2e+00 5.0e-02 1.7e+00 1.4e+00 1.1e+00]\n"
          ]
        }
      ]
    },
    {
      "cell_type": "code",
      "source": [
        "df.info()"
      ],
      "metadata": {
        "colab": {
          "base_uri": "https://localhost:8080/"
        },
        "id": "XfuBht4Pumxv",
        "outputId": "5e046c29-2f80-4f8b-cdf0-420ff34cd931"
      },
      "execution_count": null,
      "outputs": [
        {
          "output_type": "stream",
          "name": "stdout",
          "text": [
            "<class 'pandas.core.frame.DataFrame'>\n",
            "Int64Index: 468 entries, 0 to 514\n",
            "Data columns (total 11 columns):\n",
            " #   Column            Non-Null Count  Dtype  \n",
            "---  ------            --------------  -----  \n",
            " 0   age               468 non-null    int64  \n",
            " 1   height            468 non-null    float64\n",
            " 2   nationality       468 non-null    object \n",
            " 3   foot              468 non-null    object \n",
            " 4   position          468 non-null    object \n",
            " 5   club              468 non-null    object \n",
            " 6   contract_expires  468 non-null    object \n",
            " 7   joined_club       468 non-null    object \n",
            " 8   player_agent      468 non-null    object \n",
            " 9   outfitter         468 non-null    object \n",
            " 10  price             468 non-null    float64\n",
            "dtypes: float64(2), int64(1), object(8)\n",
            "memory usage: 43.9+ KB\n"
          ]
        }
      ]
    },
    {
      "cell_type": "code",
      "source": [
        "columns_to_encode = ['foot', 'position', 'club', 'contract_expires', 'joined_club', 'player_agent', 'outfitter']\n",
        "\n",
        "# Membuat objek ColumnTransformer dengan transformer 'encoder' yang menggunakan OneHotEncoder\n",
        "# untuk mengkodekan kolom-kolom dalam columns_to_encode.\n",
        "# Parameter 'remainder' diatur sebagai 'passthrough' untuk menyertakan kolom yang tidak perlu diubah.\n",
        "ct = ColumnTransformer(transformers=[('encoder', OneHotEncoder(), columns_to_encode)], remainder='passthrough')\n",
        "\n",
        "# Melakukan transformasi menggunakan ColumnTransformer pada DataFrame x\n",
        "df_features_encoded = ct.fit_transform(x)\n",
        "\n",
        "# Menampilkan bentuk DataFrame hasil encoding\n",
        "print(df_features_encoded.shape)"
      ],
      "metadata": {
        "colab": {
          "base_uri": "https://localhost:8080/"
        },
        "id": "_n3IQEWytnvv",
        "outputId": "c2bc332a-5fe4-4fe1-9053-46450b663000"
      },
      "execution_count": null,
      "outputs": [
        {
          "output_type": "stream",
          "name": "stdout",
          "text": [
            "(468, 415)\n"
          ]
        }
      ]
    },
    {
      "cell_type": "markdown",
      "source": [
        "latihan dan uji data"
      ],
      "metadata": {
        "id": "YUhBZUBmvc0q"
      }
    },
    {
      "cell_type": "code",
      "source": [
        "#untuk membagi data latih dan uji sebanyak 30%\n",
        "x_train, x_test, y_train, y_test = train_test_split(df_features_encoded, y, test_size = 0.3, random_state=0)\n",
        "\n",
        "#untuk meratakan array y train y test menjadi 1 dimensi\n",
        "y_train = y_train.values.ravel()\n",
        "y_test = y_test.values.ravel()\n",
        "\n",
        "#menampilkan bentuk data\n",
        "print(f'x_train: {x_train.shape}')\n",
        "print(f'x_test: {x_test.shape}')\n",
        "print(f'y_train: {y_train.shape}')\n",
        "print(f'y_test: {y_test.shape}')"
      ],
      "metadata": {
        "colab": {
          "base_uri": "https://localhost:8080/"
        },
        "id": "34UBZPQgvfPn",
        "outputId": "9889e0ff-bd3e-44cf-a358-960d745f5c4e"
      },
      "execution_count": null,
      "outputs": [
        {
          "output_type": "stream",
          "name": "stdout",
          "text": [
            "x_train: (327, 415)\n",
            "x_test: (141, 415)\n",
            "y_train: (327,)\n",
            "y_test: (141,)\n"
          ]
        }
      ]
    },
    {
      "cell_type": "markdown",
      "source": [
        "hyper parameter toning (proses mencari hyper parameter yang optimal untuk model machine learning)"
      ],
      "metadata": {
        "id": "RNT5SMGswlyv"
      }
    },
    {
      "cell_type": "code",
      "source": [
        "best_rfr = RandomForestRegressor(max_depth=19, min_samples_leaf=3, min_samples_split=10,\n",
        "                      n_estimators=10)\n",
        "\n",
        "best_rfr.fit(x_train, y_train)"
      ],
      "metadata": {
        "id": "Ag3C3lZbw7TD",
        "colab": {
          "base_uri": "https://localhost:8080/",
          "height": 92
        },
        "outputId": "6979d220-54e1-4128-e15d-0add897831fd"
      },
      "execution_count": null,
      "outputs": [
        {
          "output_type": "execute_result",
          "data": {
            "text/plain": [
              "RandomForestRegressor(max_depth=19, min_samples_leaf=3, min_samples_split=10,\n",
              "                      n_estimators=10)"
            ],
            "text/html": [
              "<style>#sk-container-id-3 {color: black;background-color: white;}#sk-container-id-3 pre{padding: 0;}#sk-container-id-3 div.sk-toggleable {background-color: white;}#sk-container-id-3 label.sk-toggleable__label {cursor: pointer;display: block;width: 100%;margin-bottom: 0;padding: 0.3em;box-sizing: border-box;text-align: center;}#sk-container-id-3 label.sk-toggleable__label-arrow:before {content: \"▸\";float: left;margin-right: 0.25em;color: #696969;}#sk-container-id-3 label.sk-toggleable__label-arrow:hover:before {color: black;}#sk-container-id-3 div.sk-estimator:hover label.sk-toggleable__label-arrow:before {color: black;}#sk-container-id-3 div.sk-toggleable__content {max-height: 0;max-width: 0;overflow: hidden;text-align: left;background-color: #f0f8ff;}#sk-container-id-3 div.sk-toggleable__content pre {margin: 0.2em;color: black;border-radius: 0.25em;background-color: #f0f8ff;}#sk-container-id-3 input.sk-toggleable__control:checked~div.sk-toggleable__content {max-height: 200px;max-width: 100%;overflow: auto;}#sk-container-id-3 input.sk-toggleable__control:checked~label.sk-toggleable__label-arrow:before {content: \"▾\";}#sk-container-id-3 div.sk-estimator input.sk-toggleable__control:checked~label.sk-toggleable__label {background-color: #d4ebff;}#sk-container-id-3 div.sk-label input.sk-toggleable__control:checked~label.sk-toggleable__label {background-color: #d4ebff;}#sk-container-id-3 input.sk-hidden--visually {border: 0;clip: rect(1px 1px 1px 1px);clip: rect(1px, 1px, 1px, 1px);height: 1px;margin: -1px;overflow: hidden;padding: 0;position: absolute;width: 1px;}#sk-container-id-3 div.sk-estimator {font-family: monospace;background-color: #f0f8ff;border: 1px dotted black;border-radius: 0.25em;box-sizing: border-box;margin-bottom: 0.5em;}#sk-container-id-3 div.sk-estimator:hover {background-color: #d4ebff;}#sk-container-id-3 div.sk-parallel-item::after {content: \"\";width: 100%;border-bottom: 1px solid gray;flex-grow: 1;}#sk-container-id-3 div.sk-label:hover label.sk-toggleable__label {background-color: #d4ebff;}#sk-container-id-3 div.sk-serial::before {content: \"\";position: absolute;border-left: 1px solid gray;box-sizing: border-box;top: 0;bottom: 0;left: 50%;z-index: 0;}#sk-container-id-3 div.sk-serial {display: flex;flex-direction: column;align-items: center;background-color: white;padding-right: 0.2em;padding-left: 0.2em;position: relative;}#sk-container-id-3 div.sk-item {position: relative;z-index: 1;}#sk-container-id-3 div.sk-parallel {display: flex;align-items: stretch;justify-content: center;background-color: white;position: relative;}#sk-container-id-3 div.sk-item::before, #sk-container-id-3 div.sk-parallel-item::before {content: \"\";position: absolute;border-left: 1px solid gray;box-sizing: border-box;top: 0;bottom: 0;left: 50%;z-index: -1;}#sk-container-id-3 div.sk-parallel-item {display: flex;flex-direction: column;z-index: 1;position: relative;background-color: white;}#sk-container-id-3 div.sk-parallel-item:first-child::after {align-self: flex-end;width: 50%;}#sk-container-id-3 div.sk-parallel-item:last-child::after {align-self: flex-start;width: 50%;}#sk-container-id-3 div.sk-parallel-item:only-child::after {width: 0;}#sk-container-id-3 div.sk-dashed-wrapped {border: 1px dashed gray;margin: 0 0.4em 0.5em 0.4em;box-sizing: border-box;padding-bottom: 0.4em;background-color: white;}#sk-container-id-3 div.sk-label label {font-family: monospace;font-weight: bold;display: inline-block;line-height: 1.2em;}#sk-container-id-3 div.sk-label-container {text-align: center;}#sk-container-id-3 div.sk-container {/* jupyter's `normalize.less` sets `[hidden] { display: none; }` but bootstrap.min.css set `[hidden] { display: none !important; }` so we also need the `!important` here to be able to override the default hidden behavior on the sphinx rendered scikit-learn.org. See: https://github.com/scikit-learn/scikit-learn/issues/21755 */display: inline-block !important;position: relative;}#sk-container-id-3 div.sk-text-repr-fallback {display: none;}</style><div id=\"sk-container-id-3\" class=\"sk-top-container\"><div class=\"sk-text-repr-fallback\"><pre>RandomForestRegressor(max_depth=19, min_samples_leaf=3, min_samples_split=10,\n",
              "                      n_estimators=10)</pre><b>In a Jupyter environment, please rerun this cell to show the HTML representation or trust the notebook. <br />On GitHub, the HTML representation is unable to render, please try loading this page with nbviewer.org.</b></div><div class=\"sk-container\" hidden><div class=\"sk-item\"><div class=\"sk-estimator sk-toggleable\"><input class=\"sk-toggleable__control sk-hidden--visually\" id=\"sk-estimator-id-3\" type=\"checkbox\" checked><label for=\"sk-estimator-id-3\" class=\"sk-toggleable__label sk-toggleable__label-arrow\">RandomForestRegressor</label><div class=\"sk-toggleable__content\"><pre>RandomForestRegressor(max_depth=19, min_samples_leaf=3, min_samples_split=10,\n",
              "                      n_estimators=10)</pre></div></div></div></div></div>"
            ]
          },
          "metadata": {},
          "execution_count": 59
        }
      ]
    },
    {
      "cell_type": "code",
      "source": [
        "from sklearn.metrics import mean_squared_error, mean_absolute_error, r2_score\n",
        "\n",
        "def eval_train(X, y, model):\n",
        "    model.fit(X, y)\n",
        "    prediction = model.predict(X)\n",
        "\n",
        "    mse = mean_squared_error(y, prediction)\n",
        "    rmse = mean_squared_error(y, prediction, squared=False)\n",
        "    mae = mean_absolute_error(y, prediction)\n",
        "    r2 = r2_score(y, prediction)\n",
        "\n",
        "    print(f'Mean Squared Error: {mse}')\n",
        "    print(f'Root Mean Squared Error: {rmse}')\n",
        "    print(f'Mean Absolute Error: {mae}')\n",
        "    print(f'R2 Score: {r2}')"
      ],
      "metadata": {
        "id": "NTt1RVIX1PW0"
      },
      "execution_count": null,
      "outputs": []
    },
    {
      "cell_type": "code",
      "source": [
        "eval_train(df_features_encoded,y,best_rfr)"
      ],
      "metadata": {
        "colab": {
          "base_uri": "https://localhost:8080/"
        },
        "id": "RBE-hSCm1VwN",
        "outputId": "f6b79433-b39e-4250-ebda-e0ee4bf7f581"
      },
      "execution_count": null,
      "outputs": [
        {
          "output_type": "stream",
          "name": "stdout",
          "text": [
            "Mean Squared Error: 77.54799867713523\n",
            "Root Mean Squared Error: 8.806134150530255\n",
            "Mean Absolute Error: 4.459505427375982\n",
            "R2 Score: 0.6623432526614955\n"
          ]
        }
      ]
    },
    {
      "cell_type": "code",
      "source": [
        "import matplotlib.pyplot as plt\n",
        "\n",
        "# Lakukan prediksi pada data latih dan pengujian\n",
        "y_train_pred = best_rfr.predict(x_train)\n",
        "y_test_pred = best_rfr.predict(x_test)\n",
        "\n",
        "# Buat visualisasi hasil prediksi\n",
        "plt.scatter(y_train, y_train_pred, color='b', label='Prediksi (Training)')\n",
        "plt.scatter(y_test, y_test_pred, color='r', label='Prediksi (Pengujian)')\n",
        "plt.plot(y_test, y_test, color='m', linestyle='dotted', label='Nilai Sebenarnya')\n",
        "\n",
        "plt.title('Hasil Prediksi dengan Fandom Forest')\n",
        "plt.xlabel('Nilai Sebenarnya (Skala Normal)')\n",
        "plt.ylabel('Prediksi (Skala Normal)')\n",
        "plt.legend()\n",
        "plt.show()"
      ],
      "metadata": {
        "colab": {
          "base_uri": "https://localhost:8080/",
          "height": 472
        },
        "id": "-ViH-6DQ10z7",
        "outputId": "df0f5e23-726f-4173-e884-21239c410750"
      },
      "execution_count": null,
      "outputs": [
        {
          "output_type": "display_data",
          "data": {
            "text/plain": [
              "<Figure size 640x480 with 1 Axes>"
            ],
            "image/png": "[encoded data removed]"
          },
          "metadata": {}
        }
      ]
    },
    {
      "cell_type": "markdown",
      "source": [
        "model yg dibuat bisa memprediksi sampai 60%, tetapi jika memprediksi nilai tinggi tidak akurat"
      ],
      "metadata": {
        "id": "gR7A3U4a3P91"
      }
    }
  ]
}